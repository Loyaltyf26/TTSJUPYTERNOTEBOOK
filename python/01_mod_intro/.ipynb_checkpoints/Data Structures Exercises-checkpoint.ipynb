{
 "cells": [
  {
   "cell_type": "markdown",
   "id": "01bdf857",
   "metadata": {},
   "source": [
    "Exercise 1\n",
    "\n",
    "In mathematics, the quadratic equation ax2+bx+c=0 can be solved with the formula x=−b±b2−4ac√2a.\n",
    "\n",
    "Write a function solve_quadratic, that returns both solutions of a generic quadratic as a pair (2-tuple) when the coefficients are given as parameters. It should work like this:\n",
    "\n",
    "print(solve_quadratic(1,-3,2))\n",
    "(2.0,1.0)\n",
    "print(solve_quadratic(1,2,1))\n",
    "(-1.0,-1.0)"
   ]
  },
  {
   "cell_type": "code",
   "execution_count": 24,
   "id": "357161c1",
   "metadata": {},
   "outputs": [
    {
     "name": "stdout",
     "output_type": "stream",
     "text": [
      "(36.0, 9.0)\n",
      "(-1.0, -1.0)\n"
     ]
    }
   ],
   "source": [
    "import math #import math library\n",
    "\n",
    "def Quadratic_equation(a, b, c): #define first function to calculate quadratic equations\n",
    "    d = (b**2) - (4*a*c) #d holds the calculation for inside of the squareroot\n",
    "    e = (-b+math.sqrt(d))\n",
    "    f = (-b-math.sqrt(d))\n",
    "    result1 = e/(2*a) #result1 solves the quadratic formula when added \n",
    "    result2 = f/(2*a)  #result2 solves the quadratic formula when subtracted\n",
    "    tup = result1, result2;\n",
    "    print(tup)\n",
    "    return tup\n",
    "\n",
    "def main():\n",
    "\n",
    "    Quadratic_equation(1, -45, 324)\n",
    "    Quadratic_equation(1, 2, 1)\n",
    "    #print (solve_quadratic)\n",
    "    \n",
    "main()\n"
   ]
  },
  {
   "cell_type": "markdown",
   "id": "e55d541d",
   "metadata": {},
   "source": [
    "Exercise 2\n",
    "\n",
    "\n",
    "Get a space-separated list of integers from the user, create a tuple of those integers. Then compute and print the result of hash(tuple)."
   ]
  },
  {
   "cell_type": "markdown",
   "id": "0b218bb5",
   "metadata": {},
   "source": [
    "Get a space-separated list of integers from the user, create a tuple of those integers. Then compute and print the result of hash(tuple).\n",
    "\n"
   ]
  },
  {
   "cell_type": "code",
   "execution_count": null,
   "id": "90f8d937",
   "metadata": {},
   "outputs": [],
   "source": []
  },
  {
   "cell_type": "markdown",
   "id": "71e12b9d",
   "metadata": {},
   "source": [
    "Exercise 3\n",
    "\n",
    "Take the following two lists. Create a third list by picking a odd-index elements from the first list and even-index elements from the second.\n",
    "\n",
    "listOne = [3, 6, 9, 12, 15, 18, 21]\n",
    "listTwo = [4, 8, 12, 16, 20, 24, 28]"
   ]
  },
  {
   "cell_type": "code",
   "execution_count": 18,
   "id": "2f4ee8c8",
   "metadata": {},
   "outputs": [
    {
     "name": "stdout",
     "output_type": "stream",
     "text": [
      "Odd index elements from list one are\n",
      "[6, 12, 18]\n",
      "Even index elements from list two are\n",
      "[4, 12, 20, 28]\n",
      "A third list from the odd-index elements from the first list and even-index elements from the second list are\n",
      "[6, 12, 18, 4, 12, 20, 28]\n"
     ]
    }
   ],
   "source": [
    "listOne = [3, 6, 9, 12, 15, 18, 21]\n",
    "listTwo = [4, 8, 12, 16, 20, 24, 28]\n",
    "#This uses the exend feature which adds all the elements of the list to the end of the list.\n",
    "listThree = list()\n",
    "\n",
    "#Using slicing operator \":\" - we can access a range of items from a list. This extracts part of the list from 1st to but not including the 2nd\n",
    "#For listOne: We start from the 1st index with a step value of 2 so the elements returned are at index 1, 3, 5.\n",
    "odd_index = listOne[1::2] \n",
    "print(\"Odd index elements from list one are\")\n",
    "print(odd_index)\n",
    "\n",
    "#For listTwo: We start from the 0th index with step value 2 so it will pick elements present at index 0, 2, 4, 6.\n",
    "even_index = listTwo[0::2]\n",
    "print(\"Even index elements from list two are\")\n",
    "print(even_index)\n",
    "\n",
    "\n",
    "listThree.extend(odd_elements)\n",
    "listThree.extend(even_elements)\n",
    "print(\"A third list from the odd-index elements from the first list and even-index elements from the second list are\")\n",
    "print(listThree)"
   ]
  },
  {
   "cell_type": "markdown",
   "id": "c7f641d4",
   "metadata": {},
   "source": [
    "Exercise 4\n",
    "Take the following list. Slice it into three equal chunks and reverse each list.\n",
    "\n",
    "sampleList = [11, 45, 8, 23, 14, 12, 78, 45, 89]"
   ]
  },
  {
   "cell_type": "code",
   "execution_count": 24,
   "id": "7690d5c0",
   "metadata": {},
   "outputs": [
    {
     "name": "stdout",
     "output_type": "stream",
     "text": [
      "Original list  [11, 45, 8, 23, 14, 12, 78, 45, 89]\n",
      "Chunk  0 [11, 45, 8]\n",
      "After reversing it  [8, 45, 11]\n",
      "Chunk  1 [23, 14, 12]\n",
      "After reversing it  [12, 14, 23]\n",
      "Chunk  2 [78, 45, 89]\n",
      "After reversing it  [89, 45, 78]\n"
     ]
    }
   ],
   "source": [
    "sample_list = [11, 45, 8, 23, 14, 12, 78, 45, 89]\n",
    "print(\"Original list \", sample_list)\n",
    "\n",
    "length = len(sample_list)\n",
    "chunk_size = int(length / 3)\n",
    "start = 0\n",
    "end = chunk_size\n",
    "\n",
    "# run loop 3 times\n",
    "for i in range(3):\n",
    "    # get indexes\n",
    "    indexes = slice(start, end)\n",
    "    \n",
    "    # get chunk\n",
    "    list_chunk = sample_list[indexes]\n",
    "    print(\"Chunk \", i, list_chunk)\n",
    "    \n",
    "    # reverse chunk\n",
    "    print(\"After reversing it \", list(reversed(list_chunk)))\n",
    "\n",
    "    start = end\n",
    "    end += chunk_size"
   ]
  },
  {
   "cell_type": "markdown",
   "id": "c3859240",
   "metadata": {},
   "source": [
    "Exercise 5\n",
    "\n",
    "Iterate through a given list and check if a given element already exists in a dictionary as a key’s value. If not, delete it from the list.\n",
    "\n",
    "rollNumber = [47, 64, 69, 37, 76, 83, 95, 97]\n",
    "sampleDict ={'Zach':47, 'Emma':69, 'Kelly':76, 'Jason':97}"
   ]
  },
  {
   "cell_type": "code",
   "execution_count": 20,
   "id": "540a1dab",
   "metadata": {},
   "outputs": [
    {
     "name": "stdout",
     "output_type": "stream",
     "text": [
      "[47, 69, 76, 97]\n"
     ]
    }
   ],
   "source": [
    "rollNumber = [47, 64, 69, 37, 76, 83, 95, 96, 97]\n",
    "sampleDict = {\"Jhon\": 47, \"Emma\": 69, \"Kelly\": 76, \"Jason\": 97}\n",
    "\n",
    "rollNumber = [i for i in rollNumber if i in sampleDict.values()]\n",
    "\n",
    "print(rollNumber)"
   ]
  }
 ],
 "metadata": {
  "kernelspec": {
   "display_name": "Python 3 (ipykernel)",
   "language": "python",
   "name": "python3"
  },
  "language_info": {
   "codemirror_mode": {
    "name": "ipython",
    "version": 3
   },
   "file_extension": ".py",
   "mimetype": "text/x-python",
   "name": "python",
   "nbconvert_exporter": "python",
   "pygments_lexer": "ipython3",
   "version": "3.9.7"
  }
 },
 "nbformat": 4,
 "nbformat_minor": 5
}
